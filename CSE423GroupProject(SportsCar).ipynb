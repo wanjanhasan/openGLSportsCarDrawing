{
  "cells": [
    {
      "cell_type": "markdown",
      "metadata": {
        "id": "view-in-github",
        "colab_type": "text"
      },
      "source": [
        "<a href=\"https://colab.research.google.com/github/wanjanhasan/sportsCarDrawing/blob/main/CSE423GroupProject(SportsCar).ipynb\" target=\"_parent\"><img src=\"https://colab.research.google.com/assets/colab-badge.svg\" alt=\"Open In Colab\"/></a>"
      ]
    },
    {
      "cell_type": "markdown",
      "source": [
        "## Group Members: \n",
        "(All Section 10)\n",
        "Adeeba Hossain       19301175\n",
        "Faiza Radiah         19101288\n",
        "Raisa Rahman Rodela  19301011\n",
        "Nazmul Hasan Wanjan  18201133\n"
      ],
      "metadata": {
        "id": "V-PKzJvyyWjl"
      }
    },
    {
      "cell_type": "markdown",
      "metadata": {
        "id": "tbYsg8P9cHL0"
      },
      "source": [
        "##Installing dependencies"
      ]
    },
    {
      "cell_type": "code",
      "source": [
        "!nvidia-smi"
      ],
      "metadata": {
        "id": "AmXfQ2zIVhlC",
        "colab": {
          "base_uri": "https://localhost:8080/"
        },
        "outputId": "9b1b57ce-a828-443c-9712-512e9c10a770"
      },
      "execution_count": null,
      "outputs": [
        {
          "output_type": "stream",
          "name": "stdout",
          "text": [
            "Sun Aug 21 05:19:51 2022       \n",
            "+-----------------------------------------------------------------------------+\n",
            "| NVIDIA-SMI 460.32.03    Driver Version: 460.32.03    CUDA Version: 11.2     |\n",
            "|-------------------------------+----------------------+----------------------+\n",
            "| GPU  Name        Persistence-M| Bus-Id        Disp.A | Volatile Uncorr. ECC |\n",
            "| Fan  Temp  Perf  Pwr:Usage/Cap|         Memory-Usage | GPU-Util  Compute M. |\n",
            "|                               |                      |               MIG M. |\n",
            "|===============================+======================+======================|\n",
            "|   0  Tesla T4            Off  | 00000000:00:04.0 Off |                    0 |\n",
            "| N/A   46C    P8    10W /  70W |     10MiB / 15109MiB |      0%      Default |\n",
            "|                               |                      |                  N/A |\n",
            "+-------------------------------+----------------------+----------------------+\n",
            "                                                                               \n",
            "+-----------------------------------------------------------------------------+\n",
            "| Processes:                                                                  |\n",
            "|  GPU   GI   CI        PID   Type   Process name                  GPU Memory |\n",
            "|        ID   ID                                                   Usage      |\n",
            "|=============================================================================|\n",
            "+-----------------------------------------------------------------------------+\n"
          ]
        }
      ]
    },
    {
      "cell_type": "code",
      "source": [
        "!python3 --version"
      ],
      "metadata": {
        "id": "B2oYRFUPU1ke",
        "colab": {
          "base_uri": "https://localhost:8080/"
        },
        "outputId": "8c689e26-2974-417d-e0ec-465e89c15d51"
      },
      "execution_count": null,
      "outputs": [
        {
          "output_type": "stream",
          "name": "stdout",
          "text": [
            "Python 3.7.13\n"
          ]
        }
      ]
    },
    {
      "cell_type": "code",
      "execution_count": null,
      "metadata": {
        "id": "anmxcOLpZl0I"
      },
      "outputs": [],
      "source": [
        "!pip install -q tensorflow==1.15.0"
      ]
    },
    {
      "cell_type": "code",
      "execution_count": null,
      "metadata": {
        "id": "QwCIfj4CZpH0"
      },
      "outputs": [],
      "source": [
        "!pip install -q lucid>=0.2.3\n",
        "!pip install -q moviepy"
      ]
    },
    {
      "cell_type": "code",
      "execution_count": null,
      "metadata": {
        "id": "0bNNPIl5ZrEr"
      },
      "outputs": [],
      "source": [
        "!pip install -q imageio==2.4.1"
      ]
    },
    {
      "cell_type": "code",
      "execution_count": null,
      "metadata": {
        "id": "QlulmYjXZsi6"
      },
      "outputs": [],
      "source": [
        "import numpy as np\n",
        "import math\n",
        "import json\n",
        "import moviepy.editor as mvp\n",
        "from google.colab import files\n",
        "import tensorflow.compat.v1.gfile as gfile\n",
        "import lucid.misc.io.showing as show"
      ]
    },
    {
      "cell_type": "markdown",
      "metadata": {
        "id": "vUE7zVgddC1k"
      },
      "source": [
        "##Screen"
      ]
    },
    {
      "cell_type": "markdown",
      "metadata": {
        "id": "5mYklTu4aBiD"
      },
      "source": [
        "###Creating"
      ]
    },
    {
      "cell_type": "code",
      "execution_count": null,
      "metadata": {
        "colab": {
          "base_uri": "https://localhost:8080/"
        },
        "id": "PhNPIuK5Zu1y",
        "outputId": "6446ce03-c253-48b0-e937-a9dba4cbfbb6"
      },
      "outputs": [
        {
          "output_type": "stream",
          "name": "stdout",
          "text": [
            "b'4.6.0 NVIDIA 460.32.03'\n",
            "b'NVIDIA Corporation'\n"
          ]
        }
      ],
      "source": [
        "from lucid.misc.gl.glcontext import create_opengl_context\n",
        "\n",
        "# Now it's safe to import OpenGL and EGL functions\n",
        "import OpenGL.GL as gl\n",
        "from OpenGL.GLU import *\n",
        "\n",
        "# create_opengl_context() creates GL context that is attached to an\n",
        "# offscreen surface of specified size. Note that rendering to buffers\n",
        "# of different size and format is still possible with OpenGL Framebuffers.\n",
        "#\n",
        "# Users are expected to directly use EGL calls in case more advanced\n",
        "# context management is required.\n",
        "WIDTH, HEIGHT = 800,800\n",
        "create_opengl_context((WIDTH, HEIGHT))\n",
        "    \n",
        "# OpenGL context is available here.\n",
        "\n",
        "print(gl.glGetString(gl.GL_VERSION))\n",
        "print(gl.glGetString(gl.GL_VENDOR)) \n",
        "#print(gl.glGetString(gl.GL_EXTENSIONS))"
      ]
    },
    {
      "cell_type": "markdown",
      "metadata": {
        "id": "XsX6Z17-aHE7"
      },
      "source": [
        "##All methods used"
      ]
    },
    {
      "cell_type": "markdown",
      "metadata": {
        "id": "s8jO6ru5ci5D"
      },
      "source": [
        "###Circle"
      ]
    },
    {
      "cell_type": "code",
      "execution_count": null,
      "metadata": {
        "id": "t10XHzklZ3KL"
      },
      "outputs": [],
      "source": [
        "#returns all the x and y coordinates for the zones (Serial: 1, 2, 3, 4, 5, 6, 7, 0)\n",
        "def circlePoints(x, y):\n",
        "  #for zone 1, 2, 3, 4, 5, 6, 7, 0\n",
        "  return (x, y, -x, y, -y, x, -y, -x, -x, -y, x, -y, y, -x, y, x)"
      ]
    },
    {
      "cell_type": "code",
      "execution_count": null,
      "metadata": {
        "id": "So0Fn-rDaOZU"
      },
      "outputs": [],
      "source": [
        "#works for both origin-centered and away from the origin circles \n",
        "\n",
        "#full circle\n",
        "def plotCircle(myPoints, cx, cy):\n",
        "  #print(myPoints)\n",
        "  gl.glBegin(gl.GL_POINTS)\n",
        "  #zone serial 1, 2, 3, 4, 5, 6, 7, 0\n",
        "  \n",
        "  #cx and cy are the extra distances that need to be added to reach the x and y coordinates of a non-origin cenered circle\n",
        "  gl.glVertex2f(myPoints[0]+cx, myPoints[1]+cy)\n",
        "  gl.glVertex2f(myPoints[2]+cx, myPoints[3]+cy)\n",
        "  gl.glVertex2f(myPoints[4]+cx, myPoints[5]+cy)\n",
        "  #gl.glVertex2f(myPoints[6]+cx, myPoints[7]+cy)\n",
        "  #gl.glVertex2f(myPoints[8]+cx, myPoints[9]+cy)\n",
        "  #gl.glVertex2f(myPoints[10]+cx, myPoints[11]+cy)\n",
        "  #gl.glVertex2f(myPoints[12]+cx, myPoints[13]+cy)\n",
        "  gl.glVertex2f(myPoints[14]+cx, myPoints[15]+cy)\n",
        "  gl.glEnd()"
      ]
    },
    {
      "cell_type": "code",
      "execution_count": null,
      "metadata": {
        "id": "4LNWZFnnaQ8q"
      },
      "outputs": [],
      "source": [
        "# Patched Mid-point Circle Algorithm for point-based circles\n",
        "def midpointCircleAlgoPatched(radius, cx, cy):\n",
        "  \"\"\"\n",
        "  param1 --> Radius of the custom circle\n",
        "  param2 --> X coordinate of the center of the custom circle\n",
        "  param3 --> Y coordinate of the center of the custom circle\n",
        "  \"\"\"\n",
        "\n",
        "  d= 0.01-radius\n",
        "  x=0\n",
        "  y=radius\n",
        "  myPoints=circlePoints(x, y)\n",
        "  #draw the circle\n",
        "  plotCircle(myPoints, cx, cy)\n",
        "  while (x<y):\n",
        "    if d<0:\n",
        "      #choose E\n",
        "      d=d+2*x+0.03\n",
        "      x=x+0.0001\n",
        "    else:\n",
        "      #choose SE\n",
        "      d=d+2*(x-y)+0.05\n",
        "      x=x+0.0001\n",
        "      y=y-0.0001\n",
        "    myPoints=circlePoints(x, y)\n",
        "    plotCircle(myPoints, cx, cy)"
      ]
    },
    {
      "cell_type": "code",
      "source": [
        "# Actual Mid-point Circle Algorithm for radius-based full circles\n",
        "def midpointCircleAlgo(x_centre, y_centre, r, showLogs = False):\n",
        "  \"\"\"\n",
        "  param1 --> X coordinate of the center of the circle\n",
        "  param2 --> Y coordinate of the center of the circle\n",
        "  param3 --> Radius of the circle\n",
        "  param4 --> Shows logs when true; useful for debugging\n",
        "  \"\"\"\n",
        "\n",
        "  gl.glBegin(gl.GL_POINTS)\n",
        "\n",
        "  x, y = r, 0\n",
        "\n",
        "  if showLogs:\n",
        "    print(\"(\", x + x_centre, \", \", y + y_centre, \")\", sep = \"\", end = \"\")\n",
        "\n",
        "  Draw(x + x_centre, y + y_centre)\n",
        "\n",
        "  if (r > 0):\n",
        "    if showLogs:\n",
        "      print(\"(\", -x + x_centre, \", \", -y + y_centre, \")\", sep = \"\", end = \"\")\n",
        "      print(\"(\", y + x_centre, \", \", -x + y_centre, \")\", sep = \"\", end = \"\")\n",
        "      print(\"(\", -y + x_centre, \", \", x + y_centre, \")\", sep = \"\")\n",
        "    \n",
        "    Draw(-x + x_centre, -y + y_centre)\n",
        "    Draw(y + x_centre, -x + y_centre)\n",
        "    Draw(-y + x_centre, x + y_centre)\n",
        "  \n",
        "  P = 0.01 - r\n",
        "\n",
        "  while x > y:\n",
        "    y += 0.0001\n",
        "\n",
        "    # Midpoint inside or on perimeter\n",
        "    if P <= 0:\n",
        "      P = P + 2 * y + 0.01\n",
        "    \n",
        "    # Midpoint outside perimeter\n",
        "    else:\n",
        "      x -= 0.0001\n",
        "      P = P + 2 * y - 2 * x + 0.01\n",
        "    \n",
        "    # Only if all the perimeter points have been drawn\n",
        "    if x < y:\n",
        "      break\n",
        "    \n",
        "    # Draw the generated points\n",
        "    if showLogs:\n",
        "      print(\"(\", x + x_centre, \", \", y + y_centre, \")\", sep = \"\", end = \"\")\n",
        "      print(\"(\", -x + x_centre, \", \", y + y_centre, \")\", sep = \"\", end = \"\")\n",
        "      print(\"(\", x + x_centre, \", \", -y + y_centre, \")\", sep = \"\", end = \"\")\n",
        "      print(\"(\", -x + x_centre, \", \", -y + y_centre, \")\", sep = \"\")\n",
        "    \n",
        "    Draw(x + x_centre, y + y_centre)\n",
        "    Draw(-x + x_centre, y + y_centre)\n",
        "    Draw(x + x_centre, -y + y_centre)\n",
        "    Draw(-x + x_centre, -y + y_centre)\n",
        "\n",
        "    # If x = y, the perimeter points have already been drawn\n",
        "    if x != y:\n",
        "      if showLogs:\n",
        "        print(\"(\", y + x_centre, \", \", x + y_centre, \")\", sep = \"\", end = \"\")\n",
        "        print(\"(\", -y + x_centre, \", \", x + y_centre, \")\", sep = \"\", end = \"\")\n",
        "        print(\"(\", y + x_centre, \", \", -x + y_centre, \")\", sep = \"\", end = \"\")\n",
        "        print(\"(\", -y + x_centre, \", \", -x + y_centre, \")\", sep = \"\")\n",
        "      \n",
        "      Draw(y + x_centre, x + y_centre)\n",
        "      Draw(-y + x_centre, x + y_centre)\n",
        "      Draw(y + x_centre, -x + y_centre)\n",
        "      Draw(-y + x_centre, -x + y_centre)\n",
        "\n",
        "  gl.glEnd()\n",
        "\n",
        "# Dependencies\n",
        "# Range Mapping Function\n",
        "def MapRange(a, b, num):\n",
        "  (a1, a2), (b1, b2) = a, b\n",
        "  return b1 + ((num - a1) * (b2 - b1) / (a2 - a1))\n",
        "\n",
        "\n",
        "# Point Drawing Function\n",
        "def Draw(x, y):\n",
        "  # mappedX = round(MapRange((-100, 100), (-1, 1), x), 2)\n",
        "  # mappedY = round(MapRange((-100, 100), (-1, 1), y), 2)\n",
        "\n",
        "  # gl.glVertex2f(mappedX, mappedY)\n",
        "\n",
        "  gl.glVertex2f(x, y)\n",
        "\n",
        "  gl.glVertex2f(x - 0.003, y)\n",
        "  gl.glVertex2f(x - 0.004, y)\n",
        "  gl.glVertex2f(x - 0.005, y)\n",
        "  # gl.glVertex2f(x - 0.006, y)\n",
        "  # gl.glVertex2f(x - 0.007, y)\n",
        "  # gl.glVertex2f(x - 0.008, y)\n",
        "  \n",
        "  gl.glVertex2f(x + 0.003, y)\n",
        "  gl.glVertex2f(x + 0.004, y)\n",
        "  gl.glVertex2f(x + 0.005, y)\n",
        "  # gl.glVertex2f(x + 0.006, y)\n",
        "  # gl.glVertex2f(x + 0.007, y)\n",
        "  # gl.glVertex2f(x + 0.008, y)\n",
        "\n",
        "  gl.glVertex2f(x, y - 0.003)\n",
        "  gl.glVertex2f(x, y - 0.004)\n",
        "  gl.glVertex2f(x, y - 0.005)\n",
        "  # gl.glVertex2f(x, y - 0.006)\n",
        "  # gl.glVertex2f(x, y - 0.007)\n",
        "  # gl.glVertex2f(x, y - 0.008)\n",
        "  \n",
        "  gl.glVertex2f(x, y + 0.003)\n",
        "  gl.glVertex2f(x, y + 0.004)\n",
        "  gl.glVertex2f(x, y + 0.005)\n",
        "  # gl.glVertex2f(x, y + 0.006)\n",
        "  # gl.glVertex2f(x, y + 0.007)\n",
        "  # gl.glVertex2f(x, y + 0.008)\n"
      ],
      "metadata": {
        "id": "OS_nGO4y43OK"
      },
      "execution_count": null,
      "outputs": []
    },
    {
      "cell_type": "markdown",
      "metadata": {
        "id": "Tj6bK69pctST"
      },
      "source": [
        "### Line"
      ]
    },
    {
      "cell_type": "code",
      "execution_count": null,
      "metadata": {
        "id": "xyYb3uo2cgYd"
      },
      "outputs": [],
      "source": [
        "def findZone(x0, y0, x1, y1):\n",
        "  dx=x1-x0\n",
        "  dy=y1-y0\n",
        "  \n",
        "  if(abs(dx)>abs(dy)): \n",
        "    #zone 0/3/4/7\n",
        "    if(dx>=0 and dy>=0):\n",
        "      return 0\n",
        "    if(dx>=0 and dy<0):\n",
        "      return 7\n",
        "    if(dx<0 and dy>=0):\n",
        "      return 3\n",
        "    if(dx<0 and dy<0):\n",
        "      return 4\n",
        "\n",
        "  else:       \n",
        "    #zone1/2/5/6\n",
        "    if(dx>=0 and dy>=0):\n",
        "      return 1\n",
        "    if(dx>=0 and dy<0):\n",
        "      return 6\n",
        "    if(dx<0 and dy>=0):\n",
        "      return 2\n",
        "    if(dx<0 and dy<0):\n",
        "      return 5"
      ]
    },
    {
      "cell_type": "code",
      "execution_count": null,
      "metadata": {
        "id": "rZOt-pFhaRkK"
      },
      "outputs": [],
      "source": [
        "def convertToZone0(x0, y0, x1, y1, zone):\n",
        "  #if zone==0:\n",
        "    #return x0, y0, x1, y1\n",
        "  if zone==1:\n",
        "    return y0, x0, y1, x1\n",
        "  elif zone==2:\n",
        "    return -y0, x0, -y1, x1\n",
        "  elif zone==3:\n",
        "    return -x0, y0, -x1, y1\n",
        "  elif zone==4:\n",
        "    return -x0, -y0, -x1, -y1\n",
        "  elif zone==5:\n",
        "    return -y0, -x0, -y1, -x1\n",
        "  elif zone==6:\n",
        "    return y0, -x0, y1, -x1\n",
        "  else:\n",
        "    return x0, -y0, x1, -y1"
      ]
    },
    {
      "cell_type": "code",
      "execution_count": null,
      "metadata": {
        "id": "fxODQ_97aTnk"
      },
      "outputs": [],
      "source": [
        "def mapToOriginal(x, y, zone):\n",
        "  if zone==0:\n",
        "    return x, y\n",
        "  elif zone==1:\n",
        "    return y, x\n",
        "  elif zone==2:\n",
        "    return -y, x\n",
        "  elif zone==3:\n",
        "    return -x, y\n",
        "  elif zone==4:\n",
        "    return -x, -y\n",
        "  elif zone==5:\n",
        "    return -y, -x\n",
        "  elif zone==6:\n",
        "    return y, -x\n",
        "  else:\n",
        "    return x, -y"
      ]
    },
    {
      "cell_type": "code",
      "execution_count": null,
      "metadata": {
        "id": "YFwZZexQaVSS"
      },
      "outputs": [],
      "source": [
        "#P.S. This algorithm works in both direction\n",
        "def midpointLineAlgo(x0, y0, x1, y1):\n",
        "  zone=findZone(x0, y0, x1, y1)                    #pass params\n",
        "  #print(zone)\n",
        "  if zone!=0:\n",
        "    x0, y0, x1, y1=convertToZone0(x0, y0, x1, y1, zone)               #set params\n",
        "  #actual algorithm part\n",
        "  dx=x1-x0\n",
        "  dy=y1-y0\n",
        "  d=2*dy-dx\n",
        "  incE= 2*dy\n",
        "  incNE=2*(dy-dx)\n",
        "  y=y0\n",
        "  x=x0\n",
        "  gl.glBegin(gl.GL_POINTS)\n",
        "  while (x<=x1):\n",
        "    a, b=mapToOriginal(x, y, zone)\n",
        "    gl.glVertex2f(a, b)\n",
        "    if(d>0):\n",
        "      d=d +incNE\n",
        "      y+=0.0001 \n",
        "    else:\n",
        "      d=d+incE\n",
        "    x+=0.0001\n",
        "  gl.glEnd()"
      ]
    },
    {
      "cell_type": "markdown",
      "source": [
        "###LineClip and point draw"
      ],
      "metadata": {
        "id": "ousoKzYW5a3E"
      }
    },
    {
      "cell_type": "code",
      "source": [
        "from numpy import random\n",
        "def pointDraw():\n",
        "  randomx=random.rand(100)\n",
        "  randomy=random.rand(100)\n",
        "  for position in range(len(randomx)):\n",
        "    gl.glBegin(gl.GL_POINTS) \n",
        "    if position%3==0:\n",
        "      gl.glVertex2f(randomx[position],randomy[position])\n",
        "      if position%2==0:\n",
        "        gl.glVertex2f((-1)*randomx[position],randomy[position])\n",
        "    else:\n",
        "      if position%5==0:\n",
        "        gl.glVertex2f(-1*randomx[position],-1*randomy[position])\n",
        "      gl.glVertex2f(randomx[position],-1*randomy[position])\n",
        "    gl.glEnd()"
      ],
      "metadata": {
        "id": "-74O7__u5lLd"
      },
      "execution_count": null,
      "outputs": []
    },
    {
      "cell_type": "code",
      "source": [
        "min_x=-0.95\n",
        "max_x=0.95\n",
        "min_y=-0.95\n",
        "max_y=0.95\n",
        "def outcode(endPoint):\n",
        "    point_outcode=[0, 0, 0, 0]\n",
        "    x_p1=endPoint[0]\n",
        "    y_p1=endPoint[1]\n",
        "    \n",
        "    if (y_p1>max_y): point_outcode[0]=1                 #top\n",
        "    if (y_p1<min_y): point_outcode[1]=1                 #bottom\n",
        "    if (x_p1<min_x): point_outcode[2]=1                 #left\n",
        "    if (x_p1>max_x): point_outcode[3]=1                 #right\n",
        "    return point_outcode"
      ],
      "metadata": {
        "id": "xFvihhrW5ZcE"
      },
      "execution_count": null,
      "outputs": []
    },
    {
      "cell_type": "markdown",
      "metadata": {
        "id": "UJfvJP19fZoL"
      },
      "source": [
        "##Drawing "
      ]
    },
    {
      "cell_type": "markdown",
      "metadata": {
        "id": "nTiCTK8SZ5Kz"
      },
      "source": [
        "###Clearing screen+Rendering (Only this section should be run multiple times)"
      ]
    },
    {
      "cell_type": "code",
      "execution_count": null,
      "metadata": {
        "id": "-5ZkdbaHZ02M",
        "colab": {
          "base_uri": "https://localhost:8080/",
          "height": 821
        },
        "outputId": "757d5440-3999-41e2-9893-52ca1f905443"
      },
      "outputs": [
        {
          "output_type": "display_data",
          "data": {
            "text/plain": [
              "<IPython.core.display.HTML object>"
            ],
            "text/html": [
              "<img src=\"data:image/PNG;base64,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\" style=\"image-rendering: pixelated; image-rendering: crisp-edges;\">"
            ]
          },
          "metadata": {}
        }
      ],
      "source": [
        "gl.glClear(gl.GL_COLOR_BUFFER_BIT)\n",
        "\n",
        "\n",
        "gl.glColor3f(1,0,0)\n",
        "#Door range(Must be deleted later)\n",
        "# midpointLineAlgo(-0.51, 0.114, 0.12, 0.16)\n",
        "#Door\n",
        "gl.glColor3f(1,.4078,0)\n",
        "gl.glPointSize(3)\n",
        "\n",
        "#Everything has been drawn clockwise \n",
        "#P.S. The flaw with this line drawing algorithm...doesn't work top to bottom on a line parallel to y-axis, also right to left on a line parallel to x-axis\n",
        "\n",
        "#front hood space\n",
        "midpointLineAlgo(-0.9, -0.1, -0.9, -0.03)\n",
        "midpointLineAlgo(-0.9, -0.1, -0.69, -0.1)\n",
        "midpointLineAlgo(-0.9, -0.03, -0.87, 0)\n",
        "midpointLineAlgo(-0.87, 0, -0.81, 0.03)\n",
        "midpointLineAlgo(-0.81, 0.03, -0.78, 0.042)\n",
        "midpointLineAlgo(-0.78, 0.042, -0.75, 0.054)\n",
        "midpointLineAlgo(-0.75, 0.054, -0.72, 0.066)\n",
        "midpointLineAlgo(-0.72, 0.066, -0.69, 0.078)\n",
        "midpointLineAlgo(-0.69, 0.078, -0.60, 0.096)\n",
        "midpointLineAlgo(-0.60, 0.096, -0.51, 0.114)\n",
        "midpointLineAlgo(-0.51, 0.114, -0.486, 0.135)\n",
        "midpointLineAlgo(-0.486, 0.135, -0.39, 0.156)\n",
        "\n",
        "#Front glass space\n",
        "midpointLineAlgo(-0.39, 0.156, -0.15, 0.27)\n",
        "\n",
        "\n",
        "#roof\n",
        "midpointLineAlgo(-0.15, 0.27, -0.09, 0.279)\n",
        "midpointLineAlgo(-0.09, 0.279, 0.03, 0.294)\n",
        "midpointLineAlgo(0.03, 0.294, 0.06, 0.288)\n",
        "midpointLineAlgo(0.06, 0.288, 0.09, 0.2865)\n",
        "midpointLineAlgo(0.09, 0.2865, 0.12, 0.282)\n",
        "\n",
        "#rear\n",
        "midpointLineAlgo(0.12, 0.282, 0.9, 0.156)\n",
        "midpointLineAlgo(0.85, 0.13, 0.9, 0.156)\n",
        "midpointLineAlgo(0.8, 0.06, 0.85, 0.13)\n",
        "midpointLineAlgo(0.8, 0.06, 0.9, 0.06)\n",
        "midpointLineAlgo(0.9, -0.05, 0.9, 0.06)\n",
        "midpointLineAlgo(0.9, -0.05, 0.8, -0.1)\n",
        "midpointLineAlgo(0.69, -0.1, 0.8, -0.1)\n",
        "\n",
        "#\n",
        "midpointLineAlgo(-0.7,-0.02,-0.8,-0.05)\n",
        "\n",
        "\n",
        "#\n",
        "gl.glPointSize(1)\n",
        "gl.glColor3f(0.1,0.2,0.1)\n",
        "midpointLineAlgo(0.01,0.294,0.04,0.368)\n",
        "midpointLineAlgo(0.04,0.368,0.19,0.56)\n",
        "\n",
        "gl.glPointSize(3)\n",
        "gl.glColor3f(1,.4078,0)\n",
        "#rear spoiler\n",
        "midpointLineAlgo(0.8,0.235,0.9,0.25)\n",
        "midpointLineAlgo(0.9,0.255,0.91,0.292)\n",
        "midpointLineAlgo(0.8,0.235,0.75,0.272)\n",
        "midpointLineAlgo(0.75,0.272,0.91,0.292)\n",
        "\n",
        "midpointLineAlgo(0.652,0.199,0.728,0.299)\n",
        "midpointLineAlgo(0.728,0.299,0.775,0.35)\n",
        "midpointLineAlgo(0.775,0.35,0.835,0.292)\n",
        "\n",
        "midpointLineAlgo(0.58,0.212,0.675,0.45)\n",
        "midpointLineAlgo(0.675,0.45,0.855,0.29)\n",
        "midpointLineAlgo(0.625,0.212,0.672,0.45)\n",
        "midpointLineAlgo(0.685,0.201,0.728,0.299)\n",
        "\n",
        "\n",
        "gl.glColor3f(1,1,1)\n",
        "\n",
        "#number box\n",
        "midpointLineAlgo(-0.28,0.06,-0.10,0.06)\n",
        "midpointLineAlgo(-0.28,-0.051,-0.10,-0.051)\n",
        "midpointLineAlgo(-0.28,-0.051,-0.28,0.06)\n",
        "midpointLineAlgo(-0.10,-0.051,-0.10,0.06)\n",
        "\n",
        "gl.glColor3f(0,0.9,0)\n",
        "#number\n",
        "midpointLineAlgo(-0.23,0.04,-0.20,0.04)\n",
        "midpointLineAlgo(-0.23,-0.035,-0.20,-0.035)\n",
        "midpointLineAlgo(-0.23,-0.035,-0.23,0.04)\n",
        "midpointLineAlgo(-0.23,-0.001,-0.20,-0.001)\n",
        "midpointLineAlgo(-0.20,-0.035,-0.20,-0.001)\n",
        "midpointLineAlgo(-0.17,0.04,-0.14,0.04)\n",
        "midpointLineAlgo(-0.17,-0.035,-0.14,-0.035)\n",
        "midpointLineAlgo(-0.14,-0.035,-0.14,0.04)\n",
        "midpointLineAlgo(-0.17,-0.001,-0.14,-0.001)\n",
        "\n",
        "gl.glColor3f(1,.4078,0)\n",
        "\n",
        "#door handle\n",
        "midpointLineAlgo(0.15,0.095,0.231,0.103)\n",
        "midpointLineAlgo(0.142,0.075,0.227,0.077)\n",
        "midpointLineAlgo(0.142,0.075,0.15,0.095)\n",
        "midpointLineAlgo(0.227,0.077,0.229,0.101)\n",
        "\n",
        "\n",
        "#wheel well\n",
        "#right\n",
        "midpointCircleAlgoPatched(0.18, 0.51, -0.1)\n",
        "#left\n",
        "midpointCircleAlgoPatched(0.18, -0.51, -0.1)\n",
        "\n",
        "#Join\n",
        "midpointLineAlgo(-0.33, -0.1, 0.33, -0.1)\n",
        "\n",
        "gl.glPointSize(5)\n",
        "gl.glLineWidth(2)\n",
        "\n",
        "gl.glColor3f(0.3,0.3,0.3)\n",
        "# Wheels\n",
        "# Left\n",
        "midpointCircleAlgo(-0.51, -0.105, 0.15)\n",
        "# Right\n",
        "midpointCircleAlgo(0.51, -0.105, 0.15)\n",
        "\n",
        "\n",
        "# Wheel-rim Left\n",
        "# Center\n",
        "midpointCircleAlgo(-0.51, -0.105, 0.07)\n",
        "\n",
        "midpointCircleAlgo(-0.51, -0.105, 0.03)\n",
        "\n",
        "midpointCircleAlgo(-0.51, -0.105, 0.05)\n",
        "\n",
        "\n",
        "\n",
        "# Wheel-rim Right\n",
        "# Center\n",
        "midpointCircleAlgo(0.51, -0.105, 0.07)\n",
        "\n",
        "midpointCircleAlgo(0.51, -0.105, 0.03)\n",
        "\n",
        "midpointCircleAlgo(0.51, -0.105, 0.05)\n",
        "\n",
        "# Patterns\n",
        "\n",
        "\n",
        "# Patterns\n",
        "\n",
        "\n",
        "#left rim\n",
        "\n",
        "midpointLineAlgo(-0.51, -0.025, -0.37, -0.103)\n",
        "midpointLineAlgo(-0.49, -0.025, -0.37, -0.103)\n",
        "\n",
        "\n",
        "\n",
        "midpointLineAlgo(-0.51, -0.18, -0.65, -0.105)\n",
        "midpointLineAlgo(-0.49, -0.18, -0.65, -0.105)\n",
        "\n",
        "#right rim\n",
        "\n",
        "midpointLineAlgo(0.51, -0.025, 0.37, -0.103)\n",
        "midpointLineAlgo(0.49, -0.025, 0.37, -0.103)\n",
        "\n",
        "\n",
        "midpointLineAlgo(0.51, -0.18, 0.65, -0.105)\n",
        "midpointLineAlgo(0.49, -0.18, 0.65, -0.105)\n",
        "\n",
        "\n",
        "\n",
        "\n",
        "\n",
        "gl.glPointSize(3)\n",
        "\n",
        "\n",
        "gl.glColor3f(0,1,0)\n",
        "\n",
        "# Headlight\n",
        "midpointLineAlgo(-0.8 - 0.06, -0.05 + 0.01, -0.73 - 0.06, -0.03 + 0.01)\n",
        "midpointLineAlgo(-0.8 - 0.06, -0.05 + 0.01, -0.785 - 0.06, -0.015 + 0.01)\n",
        "midpointLineAlgo(-0.785 - 0.06, -0.015 + 0.01, -0.6 - 0.06, 0.06 + 0.01)\n",
        "midpointLineAlgo(-0.73 - 0.06, -0.03 + 0.01, -0.6 - 0.06, 0.06 + 0.01)\n",
        "\n",
        "gl.glColor3f(1,.4078,0)\n",
        "\n",
        "# Backlight\n",
        "# Bounds\n",
        "midpointLineAlgo(0.83, 0.06, 0.83, 0.1)\n",
        "midpointLineAlgo(0.83, 0.06, 0.88, 0.06)\n",
        "midpointLineAlgo(0.83, 0.1, 0.9, 0.12)\n",
        "\n",
        "gl.glColor3f(1,0,0)\n",
        "# Bulb\n",
        "midpointLineAlgo(0.85 + 0.02, 0.06 + 0.005, 0.86 + 0.02, 0.08)\n",
        "midpointLineAlgo(0.84 + 0.02, 0.1, 0.86 + 0.02, 0.08 + 0.005)\n",
        "\n",
        "gl.glColor3f(1,.4078,0)\n",
        "# Placement-line\n",
        "midpointLineAlgo(0.9, 0.12, 0.9, 0.15)\n",
        "\n",
        "\n",
        "\n",
        "\n",
        "\n",
        "\n",
        "gl.glColor3f(0,.8,0.8)\n",
        "\n",
        "\n",
        "#front glass\n",
        "gl.glPointSize(2.5)\n",
        "midpointLineAlgo(-0.32,0.125,-0.101,0.26)\n",
        "midpointLineAlgo(-0.32,0.125,-0.36,0.164)\n",
        "midpointLineAlgo(-0.101,0.26,-0.15,0.269)\n",
        "\n",
        "#up glass\n",
        "gl.glPointSize(2.5)\n",
        "midpointLineAlgo(-0.24,0.14,0.365,0.14)\n",
        "midpointLineAlgo(0.365,0.14,0.45,0.203)\n",
        "midpointLineAlgo(0.45,0.203,0.20,0.24)\n",
        "midpointLineAlgo(-0.06,0.26, .05, 0.27) \n",
        "midpointLineAlgo(.05, 0.27,0.20,0.24)\n",
        "midpointLineAlgo(-0.06,0.26,-0.24,0.14)\n",
        "\n",
        "#looking glass\n",
        "midpointLineAlgo(-0.24+.03,0.06+0.05,-0.21+.07,0.104+0.05)\n",
        "midpointLineAlgo(-0.227+.03,0.06+0.05,-0.197+.07,0.104+0.05)\n",
        "midpointLineAlgo(-0.21+.05,0.104+0.05,-0.1+.05,0.104+0.05)\n",
        "midpointLineAlgo(-0.1+.05,0.104+0.05,-0.08+.1,0.15+0.05)\n",
        "midpointLineAlgo(-0.08+.1,0.15+0.05,-0.2+.1,0.135+0.05)\n",
        "midpointLineAlgo(-0.2+.1,0.135+0.05,-0.21+.05,0.104+0.05)\n",
        "\n",
        "gl.glColor3f(0,.5,0.5)\n",
        "\n",
        "#door\n",
        "midpointLineAlgo(-0.33, -0.068, 0.30, -0.068)\n",
        "midpointLineAlgo(0.38,0.136,0.22,0.26)\n",
        "midpointLineAlgo(0.38,0.136,0.30,-0.068)\n",
        "\n",
        "\n",
        "gl.glColor3f(0,.2,0.3)\n",
        "\n",
        "\n",
        "#Frame\n",
        "\n",
        "\n",
        "gl.glBegin(gl.GL_LINES)\n",
        "#left line\n",
        "gl.glVertex2f(-.95, .95)\n",
        "gl.glVertex2f(-0.95, -0.95)\n",
        "#right line\n",
        "gl.glVertex2f(.95, .95)\n",
        "gl.glVertex2f(0.95, -0.95)\n",
        "#top line\n",
        "gl.glVertex2f(-.95, .95)\n",
        "gl.glVertex2f(0.95, 0.95)\n",
        "#bottom line\n",
        "gl.glVertex2f(-.95, -.95)\n",
        "gl.glVertex2f(0.95, -0.95)\n",
        "gl.glEnd()\n",
        "\n",
        "gl.glColor3f(0,.1,0.9)\n",
        "\n",
        "pointDraw()\n",
        "\n",
        "\n",
        "\n",
        "img_buf = gl.glReadPixelsub(0, 0, WIDTH, HEIGHT, gl.GL_RGB, gl.GL_UNSIGNED_BYTE)\n",
        "img = np.frombuffer(img_buf, np.uint8).reshape(HEIGHT, WIDTH, 3)[::-1]\n",
        "show.image(img/255.0)"
      ]
    }
  ],
  "metadata": {
    "accelerator": "GPU",
    "colab": {
      "collapsed_sections": [
        "XsX6Z17-aHE7",
        "Tj6bK69pctST"
      ],
      "name": "CSE423GroupProject(SportsCar).ipynb",
      "provenance": [],
      "include_colab_link": true
    },
    "gpuClass": "standard",
    "kernelspec": {
      "display_name": "Python 3",
      "name": "python3"
    },
    "language_info": {
      "name": "python"
    }
  },
  "nbformat": 4,
  "nbformat_minor": 0
}